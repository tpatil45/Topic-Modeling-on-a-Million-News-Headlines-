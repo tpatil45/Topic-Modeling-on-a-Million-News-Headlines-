{
 "cells": [
  {
   "cell_type": "markdown",
   "metadata": {},
   "source": [
    "# Read in data"
   ]
  },
  {
   "cell_type": "code",
   "execution_count": 1,
   "metadata": {},
   "outputs": [
    {
     "name": "stdout",
     "output_type": "stream",
     "text": [
      "['aba decides against community broadcasting licence'\n",
      " 'act fire witnesses must be aware of defamation']\n"
     ]
    }
   ],
   "source": [
    "import numpy as np\n",
    "import pandas as p\n",
    "news_df = p.read_csv(\"C:/Users/prank/OneDrive/Desktop/Semesters/Summer/IST 736 TXT MIN/Data/abcnews-date-text.csv\")\n",
    "# news_df['Date'] = p.to_datetime(news_df.publish_date)\n",
    "# news_df = news_df.sort_values(by=['Date'])\n",
    "\n",
    "# Deleting duplicates if any\n",
    "news_df[news_df['headline_text'].duplicated(keep=False)].sort_values('headline_text') \n",
    "news_df = news_df.drop_duplicates('headline_text')\n",
    "\n",
    "news_text = news_df['headline_text'].values\n",
    "print(news_text[0:2])"
   ]
  },
  {
   "cell_type": "markdown",
   "metadata": {},
   "source": [
    "# Vectorization"
   ]
  },
  {
   "cell_type": "code",
   "execution_count": 2,
   "metadata": {},
   "outputs": [],
   "source": [
    "from sklearn.feature_extraction.text import CountVectorizer\n",
    "from sklearn.feature_extraction.text import TfidfVectorizer\n",
    "from sklearn.feature_extraction import text\n",
    "\n",
    "# several commonly used vectorizer setting\n",
    "\n",
    "punc = ['.', ',', '\"', \"'\", '?', '!', ':', ';', '(', ')', '[', ']', '{', '}',\"%\"]\n",
    "stop_words = text.ENGLISH_STOP_WORDS.union(punc)\n",
    "\n",
    "unigram_bool_vectorizer = CountVectorizer(encoding='latin-1', binary=True, min_df=5, stop_words=stop_words)\n",
    "unigram_count_vectorizer = CountVectorizer(encoding='latin-1', binary=False, min_df=5, stop_words=stop_words)\n",
    "unigram_tfidf_vectorizer = TfidfVectorizer(encoding='latin-1', use_idf=True, min_df=5, stop_words=stop_words)"
   ]
  },
  {
   "cell_type": "markdown",
   "metadata": {},
   "source": [
    "##  Vectorize the data"
   ]
  },
  {
   "cell_type": "code",
   "execution_count": 3,
   "metadata": {},
   "outputs": [],
   "source": [
    "# fit vocabulary in training documents and transform the training documents into vectors\n",
    "\n",
    "univec_tf = unigram_count_vectorizer.fit_transform(news_text)\n",
    "univec_bool = unigram_bool_vectorizer.fit_transform(news_text)\n",
    "univec_tfidf = unigram_tfidf_vectorizer.fit_transform(news_text)"
   ]
  },
  {
   "cell_type": "code",
   "execution_count": 4,
   "metadata": {},
   "outputs": [
    {
     "name": "stdout",
     "output_type": "stream",
     "text": [
      "38345\n",
      "['boq', 'bora', 'boral', 'borat', 'borbidge', 'borce', 'bordeaux', 'border', 'bordering', 'borderline', 'borders', 'bordertown', 'bore', 'borealis', 'bored', 'boredom', 'borella', 'borer', 'bores', 'borg', 'borgas', 'borghetti', 'boring', 'boris', 'born', 'borne', 'borneo', 'boro', 'boronia', 'boros', 'borroloola', 'borrow', 'borrowed', 'borrowers', 'borrowing', 'borrowings', 'borrows', 'borussia', 'bos', 'bosca', 'boscas', 'bosch', 'bosnia', 'bosnian', 'bosnich', 'boson', 'bosque', 'boss', 'bosses', 'bosss', 'boston', 'boswell', 'botanic', 'botanical', 'botanist', 'botanists', 'botany', 'botched', 'botha', 'botham', 'bother', 'bothered', 'bothwell', 'botox', 'bots', 'botswana', 'bottas', 'bottle', 'bottled', 'bottleneck', 'bottlenecks', 'bottles', 'bottleshop', 'bottling', 'bottlo', 'bottomed', 'bottoms', 'botton', 'botulism', 'bouchard', 'boucher', 'bougainville', 'bougainvilles', 'bouganville', 'boughey', 'bought', 'bouhanni', 'boulder', 'boulders', 'boulevard', 'boulia', 'boult', 'boulton', 'bounce', 'bounced', 'bouncer', 'bouncers', 'bounces', 'bouncing', 'bound']\n"
     ]
    }
   ],
   "source": [
    "word_features_tf = unigram_count_vectorizer.get_feature_names()\n",
    "print(len(word_features_tf))\n",
    "print(word_features_tf[5000:5100])"
   ]
  },
  {
   "cell_type": "code",
   "execution_count": 5,
   "metadata": {},
   "outputs": [
    {
     "name": "stdout",
     "output_type": "stream",
     "text": [
      "38345\n",
      "['boq', 'bora', 'boral', 'borat', 'borbidge', 'borce', 'bordeaux', 'border', 'bordering', 'borderline', 'borders', 'bordertown', 'bore', 'borealis', 'bored', 'boredom', 'borella', 'borer', 'bores', 'borg', 'borgas', 'borghetti', 'boring', 'boris', 'born', 'borne', 'borneo', 'boro', 'boronia', 'boros', 'borroloola', 'borrow', 'borrowed', 'borrowers', 'borrowing', 'borrowings', 'borrows', 'borussia', 'bos', 'bosca', 'boscas', 'bosch', 'bosnia', 'bosnian', 'bosnich', 'boson', 'bosque', 'boss', 'bosses', 'bosss', 'boston', 'boswell', 'botanic', 'botanical', 'botanist', 'botanists', 'botany', 'botched', 'botha', 'botham', 'bother', 'bothered', 'bothwell', 'botox', 'bots', 'botswana', 'bottas', 'bottle', 'bottled', 'bottleneck', 'bottlenecks', 'bottles', 'bottleshop', 'bottling', 'bottlo', 'bottomed', 'bottoms', 'botton', 'botulism', 'bouchard', 'boucher', 'bougainville', 'bougainvilles', 'bouganville', 'boughey', 'bought', 'bouhanni', 'boulder', 'boulders', 'boulevard', 'boulia', 'boult', 'boulton', 'bounce', 'bounced', 'bouncer', 'bouncers', 'bounces', 'bouncing', 'bound']\n"
     ]
    }
   ],
   "source": [
    "word_features_bool = unigram_bool_vectorizer.get_feature_names()\n",
    "print(len(word_features_bool))\n",
    "print(word_features_bool[5000:5100])"
   ]
  },
  {
   "cell_type": "code",
   "execution_count": 6,
   "metadata": {},
   "outputs": [
    {
     "name": "stdout",
     "output_type": "stream",
     "text": [
      "38345\n",
      "['boq', 'bora', 'boral', 'borat', 'borbidge', 'borce', 'bordeaux', 'border', 'bordering', 'borderline', 'borders', 'bordertown', 'bore', 'borealis', 'bored', 'boredom', 'borella', 'borer', 'bores', 'borg', 'borgas', 'borghetti', 'boring', 'boris', 'born', 'borne', 'borneo', 'boro', 'boronia', 'boros', 'borroloola', 'borrow', 'borrowed', 'borrowers', 'borrowing', 'borrowings', 'borrows', 'borussia', 'bos', 'bosca', 'boscas', 'bosch', 'bosnia', 'bosnian', 'bosnich', 'boson', 'bosque', 'boss', 'bosses', 'bosss', 'boston', 'boswell', 'botanic', 'botanical', 'botanist', 'botanists', 'botany', 'botched', 'botha', 'botham', 'bother', 'bothered', 'bothwell', 'botox', 'bots', 'botswana', 'bottas', 'bottle', 'bottled', 'bottleneck', 'bottlenecks', 'bottles', 'bottleshop', 'bottling', 'bottlo', 'bottomed', 'bottoms', 'botton', 'botulism', 'bouchard', 'boucher', 'bougainville', 'bougainvilles', 'bouganville', 'boughey', 'bought', 'bouhanni', 'boulder', 'boulders', 'boulevard', 'boulia', 'boult', 'boulton', 'bounce', 'bounced', 'bouncer', 'bouncers', 'bounces', 'bouncing', 'bound']\n"
     ]
    }
   ],
   "source": [
    "word_features_tfidf = unigram_tfidf_vectorizer.get_feature_names()\n",
    "print(len(word_features_tfidf))\n",
    "print(word_features_tfidf[5000:5100])"
   ]
  },
  {
   "cell_type": "markdown",
   "metadata": {},
   "source": [
    "# Stemming"
   ]
  },
  {
   "cell_type": "code",
   "execution_count": 7,
   "metadata": {},
   "outputs": [],
   "source": [
    "from nltk.tokenize import RegexpTokenizer\n",
    "from nltk.stem.snowball import SnowballStemmer\n",
    "\n",
    "stemmer = SnowballStemmer('english')\n",
    "tokenizer = RegexpTokenizer(r'[a-zA-Z\\']+')\n",
    "\n",
    "def tokenize(text):\n",
    "    return [stemmer.stem(word) for word in tokenizer.tokenize(text.lower())]"
   ]
  },
  {
   "cell_type": "code",
   "execution_count": 8,
   "metadata": {},
   "outputs": [],
   "source": [
    "unigram_bool_vectorizer2 = CountVectorizer(encoding='latin-1', binary=True, min_df=5, stop_words=stop_words, tokenizer = tokenize)\n",
    "unigram_count_vectorizer2 = CountVectorizer(encoding='latin-1', binary=False, min_df=5, stop_words=stop_words, tokenizer = tokenize)\n",
    "unigram_tfidf_vectorizer2 = TfidfVectorizer(encoding='latin-1', use_idf=True, min_df=5, stop_words=stop_words, tokenizer = tokenize)"
   ]
  },
  {
   "cell_type": "markdown",
   "metadata": {},
   "source": [
    "##  Vectorize the data after stemming"
   ]
  },
  {
   "cell_type": "code",
   "execution_count": 9,
   "metadata": {},
   "outputs": [
    {
     "name": "stderr",
     "output_type": "stream",
     "text": [
      "C:\\Users\\prank\\Anaconda3\\lib\\site-packages\\sklearn\\feature_extraction\\text.py:385: UserWarning: Your stop_words may be inconsistent with your preprocessing. Tokenizing the stop words generated tokens ['abov', 'afterward', 'alon', 'alreadi', 'alway', 'ani', 'anoth', 'anyon', 'anyth', 'anywher', 'becam', 'becaus', 'becom', 'befor', 'besid', 'cri', 'describ', 'dure', 'els', 'elsewher', 'empti', 'everi', 'everyon', 'everyth', 'everywher', 'fifti', 'forti', 'henc', 'hereaft', 'herebi', 'howev', 'hundr', 'inde', 'mani', 'meanwhil', 'moreov', 'nobodi', 'noon', 'noth', 'nowher', 'onc', 'onli', 'otherwis', 'ourselv', 'perhap', 'pleas', 'sever', 'sinc', 'sincer', 'sixti', 'someon', 'someth', 'sometim', 'somewher', 'themselv', 'thenc', 'thereaft', 'therebi', 'therefor', 'togeth', 'twelv', 'twenti', 'veri', 'whatev', 'whenc', 'whenev', 'wherea', 'whereaft', 'wherebi', 'wherev', 'whi', 'yourselv'] not in stop_words.\n",
      "  'stop_words.' % sorted(inconsistent))\n"
     ]
    }
   ],
   "source": [
    "univec_stem_tf = unigram_count_vectorizer2.fit_transform(news_text)\n",
    "univec_stem_bool = unigram_bool_vectorizer2.fit_transform(news_text)\n",
    "univec_stem_tfidf = unigram_tfidf_vectorizer2.fit_transform(news_text)"
   ]
  },
  {
   "cell_type": "code",
   "execution_count": 10,
   "metadata": {},
   "outputs": [
    {
     "name": "stdout",
     "output_type": "stream",
     "text": [
      "38345\n",
      "['boq', 'bora', 'boral', 'borat', 'borbidge', 'borce', 'bordeaux', 'border', 'bordering', 'borderline', 'borders', 'bordertown', 'bore', 'borealis', 'bored', 'boredom', 'borella', 'borer', 'bores', 'borg', 'borgas', 'borghetti', 'boring', 'boris', 'born', 'borne', 'borneo', 'boro', 'boronia', 'boros', 'borroloola', 'borrow', 'borrowed', 'borrowers', 'borrowing', 'borrowings', 'borrows', 'borussia', 'bos', 'bosca', 'boscas', 'bosch', 'bosnia', 'bosnian', 'bosnich', 'boson', 'bosque', 'boss', 'bosses', 'bosss', 'boston', 'boswell', 'botanic', 'botanical', 'botanist', 'botanists', 'botany', 'botched', 'botha', 'botham', 'bother', 'bothered', 'bothwell', 'botox', 'bots', 'botswana', 'bottas', 'bottle', 'bottled', 'bottleneck', 'bottlenecks', 'bottles', 'bottleshop', 'bottling', 'bottlo', 'bottomed', 'bottoms', 'botton', 'botulism', 'bouchard', 'boucher', 'bougainville', 'bougainvilles', 'bouganville', 'boughey', 'bought', 'bouhanni', 'boulder', 'boulders', 'boulevard', 'boulia', 'boult', 'boulton', 'bounce', 'bounced', 'bouncer', 'bouncers', 'bounces', 'bouncing', 'bound']\n"
     ]
    }
   ],
   "source": [
    "word_features_tf2 = unigram_count_vectorizer2.get_feature_names()\n",
    "print(len(word_features_tf2))\n",
    "print(word_features_tf2[5000:5100])"
   ]
  },
  {
   "cell_type": "code",
   "execution_count": 45,
   "metadata": {},
   "outputs": [
    {
     "name": "stdout",
     "output_type": "stream",
     "text": [
      "26177\n",
      "['conscienc', 'conscienti', 'conscious', 'conscript', 'consecr', 'consecut', 'consensu', 'consensus', 'consent', 'consequ', 'conserv', 'conservat', 'conservationist', 'conservatori', 'conservatorium', 'consid', 'consider', 'consign', 'consist', 'consol', 'consolid', 'consort', 'consortia', 'consortium', 'conspir', 'conspiraci', 'constabl', 'constanc', 'constant', 'constantin', 'constel', 'constitu', 'constitut', 'constrain', 'constraint', 'constrictor', 'construct', 'constructor', 'consul', 'consular', 'consult', 'consum', 'consumer', 'consumpt', 'cont', 'contact', 'contador', 'contagi', 'contagion', 'contain', 'contamin', 'contempl', 'contemporari', 'contempt', 'contend', 'content', 'contenti', 'contest', 'context', 'contin', 'continent', 'conting', 'continu', 'contra', 'contraband', 'contracept', 'contract', 'contractor', 'contractu', 'contradict', 'contradictori', 'contrast', 'contribut', 'contributor', 'contrit', 'control', 'controversi', 'contruct', 'conundrum', 'convector', 'conven', 'conveni', 'convenor', 'convent', 'converg', 'converi', 'convers', 'convert', 'conveyanc', 'conveyor', 'convict', 'convinc', 'convoy', 'conway', 'coo', 'coober', 'cooee', 'coogan', 'cooge', 'cook']\n"
     ]
    }
   ],
   "source": [
    "word_features_bool2 = unigram_bool_vectorizer2.get_feature_names()\n",
    "print(len(word_features_bool2))\n",
    "print(word_features_bool2[5000:5100])"
   ]
  },
  {
   "cell_type": "code",
   "execution_count": 46,
   "metadata": {},
   "outputs": [
    {
     "name": "stdout",
     "output_type": "stream",
     "text": [
      "38345\n",
      "['conscienc', 'conscienti', 'conscious', 'conscript', 'consecr', 'consecut', 'consensu', 'consensus', 'consent', 'consequ', 'conserv', 'conservat', 'conservationist', 'conservatori', 'conservatorium', 'consid', 'consider', 'consign', 'consist', 'consol', 'consolid', 'consort', 'consortia', 'consortium', 'conspir', 'conspiraci', 'constabl', 'constanc', 'constant', 'constantin', 'constel', 'constitu', 'constitut', 'constrain', 'constraint', 'constrictor', 'construct', 'constructor', 'consul', 'consular', 'consult', 'consum', 'consumer', 'consumpt', 'cont', 'contact', 'contador', 'contagi', 'contagion', 'contain', 'contamin', 'contempl', 'contemporari', 'contempt', 'contend', 'content', 'contenti', 'contest', 'context', 'contin', 'continent', 'conting', 'continu', 'contra', 'contraband', 'contracept', 'contract', 'contractor', 'contractu', 'contradict', 'contradictori', 'contrast', 'contribut', 'contributor', 'contrit', 'control', 'controversi', 'contruct', 'conundrum', 'convector', 'conven', 'conveni', 'convenor', 'convent', 'converg', 'converi', 'convers', 'convert', 'conveyanc', 'conveyor', 'convict', 'convinc', 'convoy', 'conway', 'coo', 'coober', 'cooee', 'coogan', 'cooge', 'cook']\n"
     ]
    }
   ],
   "source": [
    "word_features_tfidf2 = unigram_tfidf_vectorizer2.get_feature_names()\n",
    "print(len(word_features_tfidf))\n",
    "print(word_features_tfidf2[5000:5100])"
   ]
  },
  {
   "cell_type": "markdown",
   "metadata": {},
   "source": [
    "# Elbow method for K-Means"
   ]
  },
  {
   "cell_type": "code",
   "execution_count": 13,
   "metadata": {},
   "outputs": [
    {
     "data": {
      "image/png": "[encoded data removed]",
      "text/plain": [
       "<Figure size 432x288 with 1 Axes>"
      ]
     },
     "metadata": {
      "needs_background": "light"
     },
     "output_type": "display_data"
    }
   ],
   "source": [
    "from sklearn.cluster import KMeans\n",
    "%matplotlib inline\n",
    "import matplotlib.pyplot as plt\n",
    "import seaborn as sns\n",
    "\n",
    "wcss = []\n",
    "\n",
    "for i in range(1,11):\n",
    "    kmeans = KMeans(n_clusters=i,init='k-means++',max_iter=300,n_init=10,random_state=0)\n",
    "    kmeans.fit(univec_stem_tfidf)\n",
    "    wcss.append(kmeans.inertia_)\n",
    "\n",
    "plt.plot(range(1,11),wcss)\n",
    "plt.title('The Elbow Method')\n",
    "plt.xlabel('Number of clusters')\n",
    "plt.ylabel('WCSS')\n",
    "plt.savefig('elbow.png')\n",
    "plt.show()"
   ]
  },
  {
   "cell_type": "code",
   "execution_count": 51,
   "metadata": {},
   "outputs": [
    {
     "data": {
      "text/plain": [
       "KMeans(algorithm='auto', copy_x=True, init='k-means++', max_iter=300,\n",
       "       n_clusters=3, n_init=10, n_jobs=1, precompute_distances='auto',\n",
       "       random_state=0, tol=0.0001, verbose=False)"
      ]
     },
     "execution_count": 51,
     "metadata": {},
     "output_type": "execute_result"
    }
   ],
   "source": [
    "from sklearn.cluster import KMeans\n",
    "from scipy.stats import zscore\n",
    "\n",
    "k_3 = 3\n",
    "km_3 = KMeans(n_clusters=k_3, algorithm='auto', n_init=10, random_state=0, verbose=False, n_jobs = 1)\n",
    "km_3.fit(univec_stem_tfidf)\n"
   ]
  },
  {
   "cell_type": "code",
   "execution_count": 52,
   "metadata": {},
   "outputs": [
    {
     "name": "stdout",
     "output_type": "stream",
     "text": [
      "0 : new, plan, say, council, govt, australia, win, fund, kill, report, australian, water, nsw, urg, court, warn, chang, year, crash, wa, health, qld, open, death, elect\n",
      "1 : man, charg, murder, court, face, jail, assault, stab, death, die, guilti, drug, sex, child, woman, accus, crash, attack, car, arrest, kill, miss, sydney, alleg, teen\n",
      "2 : polic, investig, man, probe, offic, search, arrest, miss, hunt, car, death, shoot, drug, assault, seek, attack, crash, murder, charg, driver, fatal, say, suspect, raid, woman\n"
     ]
    }
   ],
   "source": [
    "common_words_3 = km_3.cluster_centers_.argsort()[:,-1:-26:-1]\n",
    "for num, centroid in enumerate(common_words_3):\n",
    "    print(str(num) + ' : ' + ', '.join(word_features_tfidf2[word] for word in centroid))"
   ]
  },
  {
   "cell_type": "code",
   "execution_count": 53,
   "metadata": {},
   "outputs": [
    {
     "data": {
      "text/plain": [
       "KMeans(algorithm='auto', copy_x=True, init='k-means++', max_iter=300,\n",
       "       n_clusters=7, n_init=10, n_jobs=1, precompute_distances='auto',\n",
       "       random_state=0, tol=0.0001, verbose=False)"
      ]
     },
     "execution_count": 53,
     "metadata": {},
     "output_type": "execute_result"
    }
   ],
   "source": [
    "from sklearn.cluster import KMeans\n",
    "from scipy.stats import zscore\n",
    "\n",
    "k_7 = 7\n",
    "km_7 = KMeans(n_clusters=k_7, algorithm='auto', n_init=10, random_state=0, verbose=False, n_jobs = 1)\n",
    "km_7.fit(univec_stem_tfidf)\n"
   ]
  },
  {
   "cell_type": "code",
   "execution_count": 54,
   "metadata": {},
   "outputs": [
    {
     "name": "stdout",
     "output_type": "stream",
     "text": [
      "0 : new, plan, say, council, govt, australia, win, fund, kill, report, australian, water, nsw, urg, court, warn, chang, year, crash, wa, health, qld, open, death, elect\n",
      "1 : man, charg, murder, court, face, jail, assault, stab, death, die, guilti, drug, sex, child, woman, accus, crash, attack, car, arrest, kill, miss, sydney, alleg, teen\n",
      "2 : polic, investig, man, probe, offic, search, arrest, miss, hunt, car, death, shoot, drug, assault, seek, attack, crash, murder, charg, driver, fatal, say, suspect, raid, woman\n"
     ]
    }
   ],
   "source": [
    "common_words_7 = km_7.cluster_centers_.argsort()[:,-1:-26:-1]\n",
    "for num, centroid in enumerate(common_words_3):\n",
    "    print(str(num) + ' : ' + ', '.join(word_features_tfidf2[word] for word in centroid))"
   ]
  },
  {
   "cell_type": "code",
   "execution_count": 19,
   "metadata": {},
   "outputs": [
    {
     "data": {
      "text/plain": [
       "KMeans(algorithm='auto', copy_x=True, init='k-means++', max_iter=300,\n",
       "       n_clusters=8, n_init=10, n_jobs=1, precompute_distances='auto',\n",
       "       random_state=0, tol=0.0001, verbose=False)"
      ]
     },
     "execution_count": 19,
     "metadata": {},
     "output_type": "execute_result"
    }
   ],
   "source": [
    "from sklearn.cluster import KMeans\n",
    "from scipy.stats import zscore\n",
    "\n",
    "k = 8\n",
    "km = KMeans(n_clusters=k, algorithm='auto', n_init=10, random_state=0, verbose=False, n_jobs = 1)\n",
    "km.fit(univec_stem_tfidf)\n"
   ]
  },
  {
   "cell_type": "code",
   "execution_count": 21,
   "metadata": {},
   "outputs": [
    {
     "name": "stdout",
     "output_type": "stream",
     "text": [
      "0 : australia, govt, charg, fund, urg, face, hour, countri, court, council, nsw, murder, boost, new, day, drug, wa, vic, tas, qld, accus, south, sa, feder, water\n",
      "1 : report, rural, nsw, sa, qld, health, releas, doctor, say, reveal, highlight, new, govt, urg, abc, abus, council, chang, polic, card, death, wa, women, climat, recommend\n",
      "2 : elect, fear, labor, campaign, feder, air, council, spark, result, vote, candid, wa, poll, nsw, win, new, liber, mayor, job, parti, surgeri, green, union, qld, presid\n",
      "3 : polic, investig, probe, offic, search, car, hunt, death, arrest, shoot, drug, miss, crash, charg, driver, seek, assault, fatal, attack, murder, suspect, raid, woman, station, warn\n",
      "4 : man, charg, murder, jail, court, polic, stab, die, face, arrest, miss, assault, accus, guilti, death, car, kill, attack, crash, shoot, child, sydney, sex, alleg, plead\n",
      "5 : new, win, council, kill, australian, warn, crash, court, year, open, water, death, sydney, hit, chang, hous, nsw, attack, home, world, rise, claim, day, hospit, wa\n",
      "6 : plan, council, govt, water, new, develop, say, basin, group, chang, hous, unveil, park, reject, urg, public, green, health, centr, expans, govern, labor, opposit, resid, power\n",
      "7 : say, govern, need, feder, new, minist, wa, opposit, union, labor, govt, fund, mp, chang, state, council, expert, qld, sa, nsw, cut, health, group, wont, public\n"
     ]
    }
   ],
   "source": [
    "common_words = km.cluster_centers_.argsort()[:,-1:-26:-1]\n",
    "for num, centroid in enumerate(common_words):\n",
    "    print(str(num) + ' : ' + ', '.join(word_features_tfidf2[word] for word in centroid))"
   ]
  },
  {
   "cell_type": "code",
   "execution_count": 40,
   "metadata": {},
   "outputs": [
    {
     "data": {
      "text/html": [
       "<div>\n",
       "<style scoped>\n",
       "    .dataframe tbody tr th:only-of-type {\n",
       "        vertical-align: middle;\n",
       "    }\n",
       "\n",
       "    .dataframe tbody tr th {\n",
       "        vertical-align: top;\n",
       "    }\n",
       "\n",
       "    .dataframe thead th {\n",
       "        text-align: right;\n",
       "    }\n",
       "</style>\n",
       "<table border=\"1\" class=\"dataframe\">\n",
       "  <thead>\n",
       "    <tr style=\"text-align: right;\">\n",
       "      <th></th>\n",
       "      <th>headline_text</th>\n",
       "      <th>cluster</th>\n",
       "    </tr>\n",
       "  </thead>\n",
       "  <tbody>\n",
       "    <tr>\n",
       "      <th>220805</th>\n",
       "      <td>sexual assault of elderly not rare service warns</td>\n",
       "      <td>5</td>\n",
       "    </tr>\n",
       "    <tr>\n",
       "      <th>198178</th>\n",
       "      <td>pm demands legislation to thwart terrorist attack</td>\n",
       "      <td>5</td>\n",
       "    </tr>\n",
       "    <tr>\n",
       "      <th>47979</th>\n",
       "      <td>residents warned about snake bites</td>\n",
       "      <td>5</td>\n",
       "    </tr>\n",
       "    <tr>\n",
       "      <th>1135535</th>\n",
       "      <td>star trek worst episode ever chart</td>\n",
       "      <td>5</td>\n",
       "    </tr>\n",
       "    <tr>\n",
       "      <th>673644</th>\n",
       "      <td>spurs held to shock fa cup draw as liverpool win</td>\n",
       "      <td>5</td>\n",
       "    </tr>\n",
       "    <tr>\n",
       "      <th>...</th>\n",
       "      <td>...</td>\n",
       "      <td>...</td>\n",
       "    </tr>\n",
       "    <tr>\n",
       "      <th>252545</th>\n",
       "      <td>claims tourists trophy croc parts</td>\n",
       "      <td>5</td>\n",
       "    </tr>\n",
       "    <tr>\n",
       "      <th>156061</th>\n",
       "      <td>opposition predicts longer hospital waiting lists</td>\n",
       "      <td>5</td>\n",
       "    </tr>\n",
       "    <tr>\n",
       "      <th>176068</th>\n",
       "      <td>stanhopes prison visit too little too late says</td>\n",
       "      <td>7</td>\n",
       "    </tr>\n",
       "    <tr>\n",
       "      <th>164637</th>\n",
       "      <td>sustainable housing scheme to be altered for</td>\n",
       "      <td>5</td>\n",
       "    </tr>\n",
       "    <tr>\n",
       "      <th>797592</th>\n",
       "      <td>free first aid training for south australian s...</td>\n",
       "      <td>5</td>\n",
       "    </tr>\n",
       "  </tbody>\n",
       "</table>\n",
       "<p>1000 rows × 2 columns</p>\n",
       "</div>"
      ],
      "text/plain": [
       "                                             headline_text  cluster\n",
       "220805    sexual assault of elderly not rare service warns        5\n",
       "198178   pm demands legislation to thwart terrorist attack        5\n",
       "47979                   residents warned about snake bites        5\n",
       "1135535                 star trek worst episode ever chart        5\n",
       "673644    spurs held to shock fa cup draw as liverpool win        5\n",
       "...                                                    ...      ...\n",
       "252545                   claims tourists trophy croc parts        5\n",
       "156061   opposition predicts longer hospital waiting lists        5\n",
       "176068     stanhopes prison visit too little too late says        7\n",
       "164637        sustainable housing scheme to be altered for        5\n",
       "797592   free first aid training for south australian s...        5\n",
       "\n",
       "[1000 rows x 2 columns]"
      ]
     },
     "execution_count": 40,
     "metadata": {},
     "output_type": "execute_result"
    }
   ],
   "source": [
    "labels = km.predict(univec_stem_tfidf)\n",
    "centroids = km.cluster_centers_\n",
    "#centroids\n",
    "news_df['cluster'] = labels\n",
    "news_df['cluster'].value_counts()\n",
    "news_df[['headline_text','cluster']].sample(n=1000)"
   ]
  },
  {
   "cell_type": "code",
   "execution_count": 56,
   "metadata": {},
   "outputs": [
    {
     "data": {
      "text/plain": [
       "KMeans(algorithm='auto', copy_x=True, init='k-means++', max_iter=300,\n",
       "       n_clusters=10, n_init=10, n_jobs=1, precompute_distances='auto',\n",
       "       random_state=0, tol=0.0001, verbose=False)"
      ]
     },
     "execution_count": 56,
     "metadata": {},
     "output_type": "execute_result"
    }
   ],
   "source": [
    "k_10 = 10\n",
    "km_10 = KMeans(n_clusters=k_10, algorithm='auto', n_init=10, random_state=0, verbose=False, n_jobs = 1)\n",
    "km_10.fit(univec_stem_tfidf)\n"
   ]
  },
  {
   "cell_type": "code",
   "execution_count": 57,
   "metadata": {},
   "outputs": [
    {
     "name": "stdout",
     "output_type": "stream",
     "text": [
      "0 : plan, council, australia, win, govt, report, warn, urg, water, court, australian, chang, nsw, day, death, sydney, world, hous, wa, claim, health, interview, home, talk, test\n",
      "1 : man, charg, murder, court, jail, stab, assault, guilti, death, face, drug, accus, sex, woman, child, attack, arrest, die, alleg, sydney, kill, plead, teen, shoot, car\n",
      "2 : say, fund, kill, open, attack, elect, rise, hospit, hit, boost, help, coast, labor, gold, govt, council, rate, plan, australian, feder, health, nsw, bomb, price, iraq\n",
      "3 : flood, flash, hit, damag, resid, qld, nsw, victim, warn, rain, road, north, evacu, clean, queensland, river, recoveri, council, farmer, kill, water, threat, fund, town, dead\n",
      "4 : crash, car, fatal, plane, kill, die, driver, road, man, polic, injur, dead, bus, truck, highway, victim, pilot, woman, chopper, helicopt, investig, probe, train, near, hurt\n",
      "5 : face, govern, sa, court, charg, rural, accus, feder, say, fund, water, govt, plan, nsw, ban, wa, trial, chang, countri, state, challeng, drug, urg, cut, opposit\n",
      "6 : new, zealand, law, year, plan, york, open, council, polic, centr, hospit, home, australia, set, deal, appoint, announc, hope, look, govt, chief, say, minist, south, servic\n",
      "7 : miss, search, man, polic, woman, bodi, continu, safe, boy, fear, teen, tourist, girl, famili, near, fisherman, help, bushwalk, resum, dead, plane, yo, person, concern, boat\n",
      "8 : year, qld, old, jail, rural, north, govt, central, celebr, sentenc, health, australian, se, govern, high, end, countri, hour, plan, man, hit, western, report, low, say\n",
      "9 : polic, investig, probe, offic, man, arrest, hunt, death, shoot, drug, search, car, assault, attack, murder, charg, seek, suspect, driver, say, raid, station, warn, alleg, seiz\n"
     ]
    }
   ],
   "source": [
    "common_words_10 = km_10.cluster_centers_.argsort()[:,-1:-26:-1]\n",
    "for num, centroid in enumerate(common_words_10):\n",
    "    print(str(num) + ' : ' + ', '.join(word_features_tfidf2[word] for word in centroid))"
   ]
  }
 ],
 "metadata": {
  "kernelspec": {
   "display_name": "Python 3",
   "language": "python",
   "name": "python3"
  },
  "language_info": {
   "codemirror_mode": {
    "name": "ipython",
    "version": 3
   },
   "file_extension": ".py",
   "mimetype": "text/x-python",
   "name": "python",
   "nbconvert_exporter": "python",
   "pygments_lexer": "ipython3",
   "version": "3.6.5"
  }
 },
 "nbformat": 4,
 "nbformat_minor": 2
}
