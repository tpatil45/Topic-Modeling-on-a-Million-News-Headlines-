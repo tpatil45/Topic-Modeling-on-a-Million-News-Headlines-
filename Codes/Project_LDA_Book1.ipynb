{
 "cells": [
  {
   "cell_type": "code",
   "execution_count": 1,
   "metadata": {},
   "outputs": [
    {
     "name": "stdout",
     "output_type": "stream",
     "text": [
      "['aba decides against community broadcasting licence'\n",
      " 'patterson snubs health meeting to avoid lions den']\n"
     ]
    }
   ],
   "source": [
    "import pandas as p\n",
    "news_headlines_df = p.read_csv(\"abcnews-date-text.csv\")\n",
    "news_headlines_df['Date'] = p.to_datetime(news_headlines_df.publish_date)\n",
    "news_headlines_df = news_headlines_df.sort_values(by=['Date'])\n",
    "\n",
    "news_text = news_headlines_df['headline_text'].values\n",
    "print(news_text[0:2])"
   ]
  },
  {
   "cell_type": "markdown",
   "metadata": {},
   "source": [
    "#### 1.1 million news headlines"
   ]
  },
  {
   "cell_type": "code",
   "execution_count": 2,
   "metadata": {
    "scrolled": true
   },
   "outputs": [
    {
     "data": {
      "text/plain": [
       "1186018"
      ]
     },
     "execution_count": 2,
     "metadata": {},
     "output_type": "execute_result"
    }
   ],
   "source": [
    "len(news_text)"
   ]
  },
  {
   "cell_type": "markdown",
   "metadata": {},
   "source": [
    "#### Only Unigrams, without max_features filter"
   ]
  },
  {
   "cell_type": "code",
   "execution_count": 23,
   "metadata": {},
   "outputs": [],
   "source": [
    "from sklearn.feature_extraction.text import CountVectorizer\n",
    "unigram_tf_vectorizer = CountVectorizer(encoding='latin-1', binary=False, lowercase = True, stop_words='english', min_df=5, max_df = 0.8)"
   ]
  },
  {
   "cell_type": "code",
   "execution_count": 24,
   "metadata": {},
   "outputs": [
    {
     "data": {
      "text/plain": [
       "38475"
      ]
     },
     "execution_count": 24,
     "metadata": {},
     "output_type": "execute_result"
    }
   ],
   "source": [
    "import numpy as np\n",
    "news_unigram_tf_matrix = unigram_tf_vectorizer.fit_transform(np.array(news_text))\n",
    "len(unigram_tf_vectorizer.vocabulary_)"
   ]
  },
  {
   "cell_type": "code",
   "execution_count": 25,
   "metadata": {},
   "outputs": [],
   "source": [
    "from sklearn.decomposition import NMF, LatentDirichletAllocation\n",
    "\n",
    "no_topics = 20\n",
    "\n",
    "# Run NMF\n",
    "#nmf = NMF(n_components=no_topics, random_state=1, alpha=.1, l1_ratio=.5, init='nndsvd').fit(tfidf)\n",
    "\n",
    "# Run LDA\n",
    "lda_tf = LatentDirichletAllocation(n_components=no_topics, max_iter=5, learning_method='online', learning_offset=50.,random_state=0)\n",
    "lda_news_tf_docs = lda_tf.fit_transform(news_unigram_tf_matrix)"
   ]
  },
  {
   "cell_type": "code",
   "execution_count": 26,
   "metadata": {},
   "outputs": [
    {
     "name": "stdout",
     "output_type": "stream",
     "text": [
      "Topic 0:\n",
      "melbourne health plan labor tasmania state minister big industry work league climate hobart regional hill peter energy mental research indonesia\n",
      "Topic 1:\n",
      "wa day north report brisbane house missing west live funding jailed group baby cyclone cricket video train art mother meet\n",
      "Topic 2:\n",
      "police new crash family tax fight media weather takes trade station fatal free aboriginal opposition urged probe plane victim greens\n",
      "Topic 3:\n",
      "interview death qld year budget deal road arrested michael scott hits finds hunter warns inquest wednesday mayor central continues dollar\n",
      "Topic 4:\n",
      "win school hour alleged body price study india super game grand play leave victory scheme continue low united key 12\n",
      "Topic 5:\n",
      "sa calls high hit power ban victoria children drought pm action river program prices premier western vote murray flood leader\n",
      "Topic 6:\n",
      "years dies royal drum commission talks jail australias shows david gets coal told sentenced crisis great james senate japan need\n",
      "Topic 7:\n",
      "test killed turnbull president mining push 2016 boost bid dairy liberal social reveals force loses brexit major mount politics paul\n",
      "Topic 8:\n",
      "coast home perth gold federal tasmanian afl record review changes service east rain gas project despite shot rate fall crime\n",
      "Topic 9:\n",
      "queensland help public street students pacific make union 2015 risk anti protest youth red games coach zealand wont protesters november\n",
      "Topic 10:\n",
      "australia council adelaide final business say residents second food emergency chief security makes airport russia truck 10 attacks uk money\n",
      "Topic 11:\n",
      "abc claims speaks nrl farm victorian end season mp cuts cattle appeal monday wants tuesday bank job local rates decision\n",
      "Topic 12:\n",
      "hospital guilty drug markets png abuse war charges workers near jobs parliament concerns cut wall prison defends festival teen rail\n",
      "Topic 13:\n",
      "australian china dead farmers people island community john pay million white air thursday beach grandstand investigation march announces staff international\n",
      "Topic 14:\n",
      "trump woman canberra water accused child wins trial open market case laws court faces injured week share tas cancer debate\n",
      "Topic 15:\n",
      "man says government court murder charged women set life time centre face darwin assault campaign run christmas friday lead team\n",
      "Topic 16:\n",
      "nsw election rural news sex indigenous act support future driver party old dog safety housing abbott legal boy bus govt\n",
      "Topic 17:\n",
      "south car national donald rise search shooting city violence young inquiry park bushfire northern men victims land newcastle sea australians\n",
      "Topic 18:\n",
      "world cup country nt attack ahead plans korea rugby tour mark race nrn defence start rio 2018 2014 august round\n",
      "Topic 19:\n",
      "sydney change port chinese fears warning care storm return asylum use morrison england st smith political hold aged aussie george\n"
     ]
    }
   ],
   "source": [
    "display_topics(lda_tf, unigram_tf_vectorizer.get_feature_names(), no_top_words)"
   ]
  },
  {
   "cell_type": "code",
   "execution_count": 27,
   "metadata": {},
   "outputs": [
    {
     "name": "stdout",
     "output_type": "stream",
     "text": [
      "Log Likelihood:  -56546102.51708642\n",
      "Perplexity:  12159.465456734917\n"
     ]
    }
   ],
   "source": [
    "# Log Likelyhood: Higher the better\n",
    "print(\"Log Likelihood: \", lda_tf.score(news_unigram_tf_matrix))\n",
    "\n",
    "# Perplexity: Lower the better. Perplexity = exp(-1. * log-likelihood per word)\n",
    "print(\"Perplexity: \", lda_tf.perplexity(news_unigram_tf_matrix))"
   ]
  },
  {
   "cell_type": "markdown",
   "metadata": {},
   "source": [
    "#### TRYING new VECTORIZER (Adding Bigrams) & 4000 features"
   ]
  },
  {
   "cell_type": "code",
   "execution_count": 18,
   "metadata": {},
   "outputs": [],
   "source": [
    "from sklearn.feature_extraction.text import CountVectorizer\n",
    "unigram_tf_vectorizer = CountVectorizer(encoding='latin-1',max_features = 4000, binary=False, lowercase = True, stop_words='english', min_df=5,ngram_range = (1,2),max_df = 0.8)"
   ]
  },
  {
   "cell_type": "code",
   "execution_count": 19,
   "metadata": {},
   "outputs": [
    {
     "data": {
      "text/plain": [
       "4000"
      ]
     },
     "execution_count": 19,
     "metadata": {},
     "output_type": "execute_result"
    }
   ],
   "source": [
    "import numpy as np\n",
    "news_unigram_tf_matrix = unigram_tf_vectorizer.fit_transform(np.array(news_text))\n",
    "len(unigram_tf_vectorizer.vocabulary_)"
   ]
  },
  {
   "cell_type": "code",
   "execution_count": 20,
   "metadata": {},
   "outputs": [],
   "source": [
    "from sklearn.decomposition import NMF, LatentDirichletAllocation\n",
    "\n",
    "no_topics = 15\n",
    "\n",
    "# Run NMF\n",
    "#nmf = NMF(n_components=no_topics, random_state=1, alpha=.1, l1_ratio=.5, init='nndsvd').fit(tfidf)\n",
    "\n",
    "# Run LDA\n",
    "lda_tf = LatentDirichletAllocation(n_components=no_topics, max_iter=5, learning_method='online', learning_offset=50.,random_state=0)\n",
    "lda_news_tf_docs = lda_tf.fit_transform(news_unigram_tf_matrix)"
   ]
  },
  {
   "cell_type": "code",
   "execution_count": 6,
   "metadata": {},
   "outputs": [],
   "source": [
    "def display_topics(model, feature_names, no_top_words):\n",
    "    for topic_idx, topic in enumerate(model.components_):\n",
    "        print(\"Topic %d:\" % (topic_idx))\n",
    "        print(\" \".join([feature_names[i]\n",
    "                        for i in topic.argsort()[:-no_top_words - 1:-1]]))\n",
    "\n",
    "no_top_words = 20"
   ]
  },
  {
   "cell_type": "code",
   "execution_count": 21,
   "metadata": {},
   "outputs": [
    {
     "name": "stdout",
     "output_type": "stream",
     "text": [
      "Topic 0:\n",
      "new nsw election melbourne school sex high missing west final people business funding markets war alleged jailed near takes jobs\n",
      "Topic 1:\n",
      "australia sydney south attack open royal road darwin island commission street group michael cuts million royal commission injured victims told bank\n",
      "Topic 2:\n",
      "china car report market say centre drum support new laws changes second pm campaign cattle christmas week peter share monday\n",
      "Topic 3:\n",
      "health news year labor state minister federal budget time port future inquiry hobart bushfire mental opposition leader lead green grandstand\n",
      "Topic 4:\n",
      "police donald indigenous dead tax fight shooting workers act assault trade station housing hunter protest rail beat legal great red\n",
      "Topic 5:\n",
      "wa abc live guilty power drug victoria rise charges drought talks victorian president nsw warning pacific care free western cyclone\n",
      "Topic 6:\n",
      "council years tasmania trial change nrl john farm weather end jail season regional gets coal sentenced debate beach research boy\n",
      "Topic 7:\n",
      "says court woman canberra perth win child wins test killed case city david program push faces india gas sexual super\n",
      "Topic 8:\n",
      "man australian charged crash coast qld murder accused gold tasmanian life deal face court search arrested gold coast northern run fatal\n",
      "Topic 9:\n",
      "queensland sa calls water north league new students food action river body korea 2016 union premier vote bid murray tas\n",
      "Topic 10:\n",
      "world cup country house family hit ban children world cup climate driver plan turnbull fears prices hill baby rain rugby white\n",
      "Topic 11:\n",
      "trump interview adelaide national dies donald trump help claims abuse media violence park mp make risk emergency land wants warns wednesday\n",
      "Topic 12:\n",
      "death big hour residents review country hour australias shows mining old scott 2015 dog safety cricket boost finds anti train inquest\n",
      "Topic 13:\n",
      "day brisbane farmers afl record public community chinese ahead pay plans hits price wall aboriginal study energy defends abbott newcastle\n",
      "Topic 14:\n",
      "government rural home nt hospital women set industry png work speaks young service parliament concerns men return friday appeal govt\n"
     ]
    }
   ],
   "source": [
    "display_topics(lda_tf, unigram_tf_vectorizer.get_feature_names(), no_top_words)"
   ]
  },
  {
   "cell_type": "code",
   "execution_count": 22,
   "metadata": {},
   "outputs": [
    {
     "name": "stdout",
     "output_type": "stream",
     "text": [
      "Log Likelihood:  -39521162.0321343\n",
      "Perplexity:  3674.160209350321\n"
     ]
    }
   ],
   "source": [
    "# Log Likelyhood: Higher the better\n",
    "print(\"Log Likelihood: \", lda_tf.score(news_unigram_tf_matrix))\n",
    "\n",
    "# Perplexity: Lower the better. Perplexity = exp(-1. * log-likelihood per word)\n",
    "print(\"Perplexity: \", lda_tf.perplexity(news_unigram_tf_matrix))"
   ]
  },
  {
   "cell_type": "markdown",
   "metadata": {},
   "source": [
    "#### Adding Bigrams with 2000 features"
   ]
  },
  {
   "cell_type": "code",
   "execution_count": 10,
   "metadata": {},
   "outputs": [],
   "source": [
    "from sklearn.feature_extraction.text import CountVectorizer\n",
    "unigram_tf_vectorizer = CountVectorizer(encoding='latin-1',max_features = 2000, binary=False, lowercase = True, stop_words='english', min_df=5,ngram_range = (1,2),max_df = 0.8)"
   ]
  },
  {
   "cell_type": "code",
   "execution_count": 11,
   "metadata": {},
   "outputs": [
    {
     "data": {
      "text/plain": [
       "2000"
      ]
     },
     "execution_count": 11,
     "metadata": {},
     "output_type": "execute_result"
    }
   ],
   "source": [
    "import numpy as np\n",
    "news_unigram_tf_matrix = unigram_tf_vectorizer.fit_transform(np.array(news_text))\n",
    "len(unigram_tf_vectorizer.vocabulary_)"
   ]
  },
  {
   "cell_type": "code",
   "execution_count": 4,
   "metadata": {},
   "outputs": [],
   "source": [
    "from sklearn.decomposition import NMF, LatentDirichletAllocation\n",
    "\n",
    "no_topics = 15\n",
    "\n",
    "# Run NMF\n",
    "#nmf = NMF(n_components=no_topics, random_state=1, alpha=.1, l1_ratio=.5, init='nndsvd').fit(tfidf)\n",
    "\n",
    "# Run LDA\n",
    "lda_tf = LatentDirichletAllocation(n_components=no_topics, max_iter=5, learning_method='online', learning_offset=50.,random_state=0)\n",
    "lda_news_tf_docs = lda_tf.fit_transform(news_unigram_tf_matrix)"
   ]
  },
  {
   "cell_type": "code",
   "execution_count": 6,
   "metadata": {},
   "outputs": [],
   "source": [
    "def display_topics(model, feature_names, no_top_words):\n",
    "    for topic_idx, topic in enumerate(model.components_):\n",
    "        print(\"Topic %d:\" % (topic_idx))\n",
    "        print(\" \".join([feature_names[i]\n",
    "                        for i in topic.argsort()[:-no_top_words - 1:-1]]))\n",
    "\n",
    "no_top_words = 20"
   ]
  },
  {
   "cell_type": "code",
   "execution_count": 7,
   "metadata": {
    "collapsed": true
   },
   "outputs": [
    {
     "name": "stdout",
     "output_type": "stream",
     "text": [
      "Topic 0:\n",
      "new nsw election melbourne school sex high missing west final people business funding markets war alleged jailed near takes jobs\n",
      "Topic 1:\n",
      "australia sydney south attack open royal road darwin island commission street group michael cuts million royal commission injured victims told bank\n",
      "Topic 2:\n",
      "china car report market say centre drum support new laws changes second pm campaign cattle christmas week peter share monday\n",
      "Topic 3:\n",
      "health news year labor state minister federal budget time port future inquiry hobart bushfire mental opposition leader lead green grandstand\n",
      "Topic 4:\n",
      "police donald indigenous dead tax fight shooting workers act assault trade station housing hunter protest rail beat legal great red\n",
      "Topic 5:\n",
      "wa abc live guilty power drug victoria rise charges drought talks victorian president nsw warning pacific care free western cyclone\n",
      "Topic 6:\n",
      "council years tasmania trial change nrl john farm weather end jail season regional gets coal sentenced debate beach research boy\n",
      "Topic 7:\n",
      "says court woman canberra perth win child wins test killed case city david program push faces india gas sexual super\n",
      "Topic 8:\n",
      "man australian charged crash coast qld murder accused gold tasmanian life deal face court search arrested gold coast northern run fatal\n",
      "Topic 9:\n",
      "queensland sa calls water north league new students food action river body korea 2016 union premier vote bid murray tas\n",
      "Topic 10:\n",
      "world cup country house family hit ban children world cup climate driver plan turnbull fears prices hill baby rain rugby white\n",
      "Topic 11:\n",
      "trump interview adelaide national dies donald trump help claims abuse media violence park mp make risk emergency land wants warns wednesday\n",
      "Topic 12:\n",
      "death big hour residents review country hour australias shows mining old scott 2015 dog safety cricket boost finds anti train inquest\n",
      "Topic 13:\n",
      "day brisbane farmers afl record public community chinese ahead pay plans hits price wall aboriginal study energy defends abbott newcastle\n",
      "Topic 14:\n",
      "government rural home nt hospital women set industry png work speaks young service parliament concerns men return friday appeal govt\n"
     ]
    }
   ],
   "source": [
    "display_topics(lda_tf, unigram_tf_vectorizer.get_feature_names(), no_top_words)"
   ]
  },
  {
   "cell_type": "code",
   "execution_count": 17,
   "metadata": {},
   "outputs": [
    {
     "name": "stdout",
     "output_type": "stream",
     "text": [
      "Log Likelihood:  -39521162.0321343\n",
      "Perplexity:  3674.160209350321\n"
     ]
    }
   ],
   "source": [
    "# Log Likelyhood: Higher the better\n",
    "print(\"Log Likelihood: \", lda_tf.score(news_unigram_tf_matrix))\n",
    "\n",
    "# Perplexity: Lower the better. Perplexity = exp(-1. * log-likelihood per word)\n",
    "print(\"Perplexity: \", lda_tf.perplexity(news_unigram_tf_matrix))"
   ]
  },
  {
   "cell_type": "code",
   "execution_count": null,
   "metadata": {},
   "outputs": [],
   "source": []
  }
 ],
 "metadata": {
  "kernelspec": {
   "display_name": "Python 3",
   "language": "python",
   "name": "python3"
  },
  "language_info": {
   "codemirror_mode": {
    "name": "ipython",
    "version": 3
   },
   "file_extension": ".py",
   "mimetype": "text/x-python",
   "name": "python",
   "nbconvert_exporter": "python",
   "pygments_lexer": "ipython3",
   "version": "3.7.4"
  }
 },
 "nbformat": 4,
 "nbformat_minor": 2
}
