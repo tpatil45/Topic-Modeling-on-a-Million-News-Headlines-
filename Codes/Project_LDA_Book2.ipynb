{
 "cells": [
  {
   "cell_type": "markdown",
   "metadata": {},
   "source": [
    "### Reading Data"
   ]
  },
  {
   "cell_type": "code",
   "execution_count": 1,
   "metadata": {},
   "outputs": [
    {
     "name": "stdout",
     "output_type": "stream",
     "text": [
      "['aba decides against community broadcasting licence'\n",
      " 'patterson snubs health meeting to avoid lions den']\n"
     ]
    }
   ],
   "source": [
    "import pandas as p\n",
    "news_headlines_df = p.read_csv(\"abcnews-date-text.csv\")\n",
    "news_headlines_df['Date'] = p.to_datetime(news_headlines_df.publish_date)\n",
    "news_headlines_df = news_headlines_df.sort_values(by=['Date'])\n",
    "\n",
    "news_text = news_headlines_df['headline_text'].values\n",
    "print(news_text[0:2])"
   ]
  },
  {
   "cell_type": "code",
   "execution_count": 2,
   "metadata": {},
   "outputs": [
    {
     "data": {
      "text/plain": [
       "1186018"
      ]
     },
     "execution_count": 2,
     "metadata": {},
     "output_type": "execute_result"
    }
   ],
   "source": [
    "len(news_text)"
   ]
  },
  {
   "cell_type": "markdown",
   "metadata": {},
   "source": [
    "#### Trying with 2000 max features & min_df = 2"
   ]
  },
  {
   "cell_type": "code",
   "execution_count": 30,
   "metadata": {},
   "outputs": [],
   "source": [
    "from sklearn.feature_extraction.text import CountVectorizer\n",
    "unigram_tf_vectorizer = CountVectorizer(encoding='latin-1',max_features = 2000, binary=False,stop_words='english', min_df=2, max_df = 0.8)"
   ]
  },
  {
   "cell_type": "code",
   "execution_count": 31,
   "metadata": {},
   "outputs": [
    {
     "data": {
      "text/plain": [
       "2000"
      ]
     },
     "execution_count": 31,
     "metadata": {},
     "output_type": "execute_result"
    }
   ],
   "source": [
    "import numpy as np\n",
    "news_unigram_tf_matrix = unigram_tf_vectorizer.fit_transform(np.array(news_text))\n",
    "len(unigram_tf_vectorizer.vocabulary_)"
   ]
  },
  {
   "cell_type": "code",
   "execution_count": 32,
   "metadata": {},
   "outputs": [],
   "source": [
    "def display_topics(model, feature_names, no_top_words):\n",
    "    for topic_idx, topic in enumerate(model.components_):\n",
    "        print(\"Topic %d:\" % (topic_idx))\n",
    "        print(\" \".join([feature_names[i]\n",
    "                        for i in topic.argsort()[:-no_top_words - 1:-1]]))\n",
    "\n",
    "no_top_words = 20"
   ]
  },
  {
   "cell_type": "code",
   "execution_count": 33,
   "metadata": {},
   "outputs": [],
   "source": [
    "from sklearn.decomposition import NMF, LatentDirichletAllocation\n",
    "\n",
    "no_topics = 20\n",
    "\n",
    "# Run NMF\n",
    "#nmf = NMF(n_components=no_topics, random_state=1, alpha=.1, l1_ratio=.5, init='nndsvd').fit(tfidf)\n",
    "\n",
    "# Run LDA\n",
    "lda_tf = LatentDirichletAllocation(n_components=no_topics, max_iter=5, learning_method='online', learning_offset=50.,random_state=0)\n",
    "lda_news_tf_docs = lda_tf.fit_transform(news_unigram_tf_matrix)"
   ]
  },
  {
   "cell_type": "code",
   "execution_count": 34,
   "metadata": {
    "scrolled": true
   },
   "outputs": [
    {
     "name": "stdout",
     "output_type": "stream",
     "text": [
      "Topic 0:\n",
      "man court murder charged years accused child life face work jail park assault david gets run faces land told sentenced\n",
      "Topic 1:\n",
      "sydney perth deal time public workers talks return crisis rail green research close light sale rio footage august military gives\n",
      "Topic 2:\n",
      "queensland rural hospital brisbane house family missing test png children street mp students parliament concerns baby storm union video wants\n",
      "Topic 3:\n",
      "health news year labor state minister help rise port climate chinese hobart regional wall hill mental monday abbott air team\n",
      "Topic 4:\n",
      "australian melbourne qld adelaide school sex west final people business ban tax fight alleged jailed review arrested finds emergency warns\n",
      "Topic 5:\n",
      "trump china afl drum john australias pay turnbull body million coal energy gas job morrison russia history star nrn stop\n",
      "Topic 6:\n",
      "new crash car abc market darwin media weather laws takes second prices fatal white town beach probe plane outback thousands\n",
      "Topic 7:\n",
      "says day interview death win hit shows michael hits india opposition local game black political hold play questions bay parents\n",
      "Topic 8:\n",
      "nt attack guilty record cuts old scott dog rain bank rates despite pleads truck fall social good marriage falls facebook\n",
      "Topic 9:\n",
      "nsw wa election open live funding power president party pacific western cyclone cricket injured wednesday super head liberal red coach\n",
      "Topic 10:\n",
      "police dead royal change drug charges commission shooting trade station free aboriginal hunter defends teen sexual dollar england grand victim\n",
      "Topic 11:\n",
      "sa calls dies tasmania big budget league nrl end season action mining river 2015 premier vote appeal boost murray tuesday\n",
      "Topic 12:\n",
      "national indigenous high road abuse violence group program make govt sea great mother indonesia games domestic syria urges fires father\n",
      "Topic 13:\n",
      "government plan set industry act young ahead changes jobs plans cut men friday housing decision legal defence tourism farmer pakistan\n",
      "Topic 14:\n",
      "world woman cup country trial killed near support fears push study rugby protest mark law march released hears 2018 2014\n",
      "Topic 15:\n",
      "coast canberra water wins gold tasmanian case search city future east price tas cancer newcastle lead project tony victory shark\n",
      "Topic 16:\n",
      "north donald farmers community victorian inquiry bushfire food korea risk prison tour urged company battle grandstand youth services race announces\n",
      "Topic 17:\n",
      "home centre claims island victoria speaks drought residents driver campaign service warning cattle care christmas safety train flood asylum beat\n",
      "Topic 18:\n",
      "council report women farm week peter share chief security debate thursday shot bus money denies zealand extended deaths suicide track\n",
      "Topic 19:\n",
      "australia south federal say markets hour war pm northern 2016 victims bid anti leader continues use rate crime boss wild\n"
     ]
    }
   ],
   "source": [
    "display_topics(lda_tf, unigram_tf_vectorizer.get_feature_names(), no_top_words)"
   ]
  },
  {
   "cell_type": "code",
   "execution_count": 35,
   "metadata": {},
   "outputs": [
    {
     "name": "stdout",
     "output_type": "stream",
     "text": [
      "Log Likelihood:  -30093912.38864605\n",
      "Perplexity:  2262.5655515904773\n"
     ]
    }
   ],
   "source": [
    "# Log Likelyhood: Higher the better\n",
    "print(\"Log Likelihood: \", lda_tf.score(news_unigram_tf_matrix))\n",
    "\n",
    "# Perplexity: Lower the better. Perplexity = exp(-1. * log-likelihood per word)\n",
    "print(\"Perplexity: \", lda_tf.perplexity(news_unigram_tf_matrix))"
   ]
  },
  {
   "cell_type": "markdown",
   "metadata": {},
   "source": [
    "#### 4000 features and min_df = 5; Only Unigrams"
   ]
  },
  {
   "cell_type": "code",
   "execution_count": 36,
   "metadata": {},
   "outputs": [],
   "source": [
    "from sklearn.feature_extraction.text import CountVectorizer\n",
    "unigram_tf_vectorizer = CountVectorizer(encoding='latin-1',max_features = 4000, binary=False, stop_words='english', min_df=5, max_df = 0.8)"
   ]
  },
  {
   "cell_type": "code",
   "execution_count": 37,
   "metadata": {},
   "outputs": [
    {
     "data": {
      "text/plain": [
       "4000"
      ]
     },
     "execution_count": 37,
     "metadata": {},
     "output_type": "execute_result"
    }
   ],
   "source": [
    "import numpy as np\n",
    "news_unigram_tf_matrix = unigram_tf_vectorizer.fit_transform(np.array(news_text))\n",
    "len(unigram_tf_vectorizer.vocabulary_)"
   ]
  },
  {
   "cell_type": "code",
   "execution_count": 38,
   "metadata": {},
   "outputs": [],
   "source": [
    "def display_topics(model, feature_names, no_top_words):\n",
    "    for topic_idx, topic in enumerate(model.components_):\n",
    "        print(\"Topic %d:\" % (topic_idx))\n",
    "        print(\" \".join([feature_names[i]\n",
    "                        for i in topic.argsort()[:-no_top_words - 1:-1]]))\n",
    "\n",
    "no_top_words = 20"
   ]
  },
  {
   "cell_type": "code",
   "execution_count": 39,
   "metadata": {},
   "outputs": [],
   "source": [
    "from sklearn.decomposition import NMF, LatentDirichletAllocation\n",
    "\n",
    "no_topics = 20\n",
    "\n",
    "# Run NMF\n",
    "#nmf = NMF(n_components=no_topics, random_state=1, alpha=.1, l1_ratio=.5, init='nndsvd').fit(tfidf)\n",
    "\n",
    "# Run LDA\n",
    "lda_tf = LatentDirichletAllocation(n_components=no_topics, max_iter=5, learning_method='online', learning_offset=50.,random_state=0)\n",
    "lda_news_tf_docs = lda_tf.fit_transform(news_unigram_tf_matrix)"
   ]
  },
  {
   "cell_type": "code",
   "execution_count": 40,
   "metadata": {},
   "outputs": [
    {
     "name": "stdout",
     "output_type": "stream",
     "text": [
      "Topic 0:\n",
      "court perth win guilty drug man face png charges support jail michael david gets run india prison teen sentenced company\n",
      "Topic 1:\n",
      "council market victoria rise farm turnbull week abbott security air debate amid outback investigation threat staff rio challenge hunt creek\n",
      "Topic 2:\n",
      "open killed live darwin island chinese pay cattle mining hits price boost injured energy newcastle continues james dollar thousands international\n",
      "Topic 3:\n",
      "australian election melbourne qld adelaide accused sex minister final people business funding tax fight jailed arrested end season street trade\n",
      "Topic 4:\n",
      "car change record 2016 2015 coal share bid anti job australians dairy england indonesia kids smith aussie marriage september loses\n",
      "Topic 5:\n",
      "day report centre public claims speaks driver hobart campaign christmas peter urged local youth race black questions urges shark suicide\n",
      "Topic 6:\n",
      "police interview canberra attack family wins case workers food warning station make aboriginal faces assault rail beat sexual mother 10\n",
      "Topic 7:\n",
      "man sydney murder woman charged years trial dead life power pm leader research boy charge start stabbing hears reveals bail\n",
      "Topic 8:\n",
      "australia abc say markets work war near jobs cut million return morrison history denies boss rescue cost malcolm title protesters\n",
      "Topic 9:\n",
      "government queensland hospital brisbane house big set community future second mp parliament concerns care baby friday video monday wants festival\n",
      "Topic 10:\n",
      "says nt child tasmania missing residents laws changes truck march announces govt defence deaths release lose prime london islands safe\n",
      "Topic 11:\n",
      "crash deal drum shooting young weather northern fatal men beach probe plane great use head close nrn girl syria wild\n",
      "Topic 12:\n",
      "sa rural health calls indigenous high hit royal time ban league children commission president action river premier appeal murray told\n",
      "Topic 13:\n",
      "trump world south news cup country search city shows students fears victims rugby tas cancer mark money political hold 2018\n",
      "Topic 14:\n",
      "coast water school labor gold tasmanian help alleged ahead bushfire plans east hill storm rain opposition crisis project shot services\n",
      "Topic 15:\n",
      "wa death north dies west act review victorian inquiry program cyclone safety finds hunter train tour inquest battle legal parents\n",
      "Topic 16:\n",
      "nsw state women drought port nrl climate regional cuts old wall dog mental bank flood gas rates despite long bus\n",
      "Topic 17:\n",
      "year test road hour violence australias body pacific korea cricket risk protest red games domestic coach footage wont 20 southern\n",
      "Topic 18:\n",
      "new home national federal industry media park takes service prices free housing land wednesday sea town thursday rate crime zealand\n",
      "Topic 19:\n",
      "china donald plan farmers budget afl abuse talks john scott study chief law russia star stop japan sale rules continue\n"
     ]
    }
   ],
   "source": [
    "display_topics(lda_tf, unigram_tf_vectorizer.get_feature_names(), no_top_words)"
   ]
  },
  {
   "cell_type": "code",
   "execution_count": 41,
   "metadata": {},
   "outputs": [
    {
     "name": "stdout",
     "output_type": "stream",
     "text": [
      "Log Likelihood:  -39003105.808877245\n",
      "Perplexity:  4072.6532038111072\n"
     ]
    }
   ],
   "source": [
    "# Log Likelyhood: Higher the better\n",
    "print(\"Log Likelihood: \", lda_tf.score(news_unigram_tf_matrix))\n",
    "\n",
    "# Perplexity: Lower the better. Perplexity = exp(-1. * log-likelihood per word)\n",
    "print(\"Perplexity: \", lda_tf.perplexity(news_unigram_tf_matrix))"
   ]
  },
  {
   "cell_type": "markdown",
   "metadata": {},
   "source": [
    "#### Adding Bigrams with the same 4000 max_features filter"
   ]
  },
  {
   "cell_type": "code",
   "execution_count": 25,
   "metadata": {},
   "outputs": [],
   "source": [
    "from sklearn.feature_extraction.text import CountVectorizer\n",
    "unigram_tf_vectorizer = CountVectorizer(encoding='latin-1',max_features = 4000, binary=False, lowercase = True, stop_words='english', min_df=5,ngram_range = (1,2),max_df = 0.8)"
   ]
  },
  {
   "cell_type": "code",
   "execution_count": 26,
   "metadata": {},
   "outputs": [
    {
     "data": {
      "text/plain": [
       "4000"
      ]
     },
     "execution_count": 26,
     "metadata": {},
     "output_type": "execute_result"
    }
   ],
   "source": [
    "import numpy as np\n",
    "news_unigram_tf_matrix = unigram_tf_vectorizer.fit_transform(np.array(news_text))\n",
    "len(unigram_tf_vectorizer.vocabulary_)"
   ]
  },
  {
   "cell_type": "code",
   "execution_count": 27,
   "metadata": {},
   "outputs": [],
   "source": [
    "from sklearn.decomposition import NMF, LatentDirichletAllocation\n",
    "\n",
    "no_topics = 20\n",
    "\n",
    "# Run NMF\n",
    "#nmf = NMF(n_components=no_topics, random_state=1, alpha=.1, l1_ratio=.5, init='nndsvd').fit(tfidf)\n",
    "\n",
    "# Run LDA\n",
    "lda_tf = LatentDirichletAllocation(n_components=no_topics, max_iter=5, learning_method='online', learning_offset=50.,random_state=0)\n",
    "lda_news_tf_docs = lda_tf.fit_transform(news_unigram_tf_matrix)"
   ]
  },
  {
   "cell_type": "code",
   "execution_count": 28,
   "metadata": {
    "scrolled": true
   },
   "outputs": [
    {
     "name": "stdout",
     "output_type": "stream",
     "text": [
      "Topic 0:\n",
      "nsw election nt market funding farm laws party govt week share mental chief debate sea announces mental health defence force release\n",
      "Topic 1:\n",
      "queensland woman test royal hour darwin trial commission near country hour students program body union cricket royal commission energy told assault sexual\n",
      "Topic 2:\n",
      "wa report school missing open live alleged chinese future second cattle price cyclone injured peter monday newcastle super star uk\n",
      "Topic 3:\n",
      "government child dead set deal island work workers talks mining faces return friday team rail green boy close light best\n",
      "Topic 4:\n",
      "police court accused man drug tax face fight charges shooting trade station old run make free aboriginal dog western teen\n",
      "Topic 5:\n",
      "health news year labor state minister women time centre claims rise speaks port hobart campaign wall hill christmas appeal defends\n",
      "Topic 6:\n",
      "man murder charged coast national years gold tasmanian life victoria search nrl jail park david gets gold coast east storm coal\n",
      "Topic 7:\n",
      "trump rural council indigenous high donald trump abuse young men tas cancer research money nrn rural news finance french site loss online\n",
      "Topic 8:\n",
      "new says crash car abc media weather changes takes fatal probe australians legal plane head denies girl boat kills abc news\n",
      "Topic 9:\n",
      "hospital big budget victorian pay parliament concerns northern video anti festival opposition urged leader lead air staff international extended strike\n",
      "Topic 10:\n",
      "world cup country win brisbane house family hit children world cup driver street fears warning prices care baby india rugby asylum\n",
      "Topic 11:\n",
      "dies sex donald help community inquiry australias bushfire group risk wednesday battle grandstand youth mother services march andrew fires malcolm\n",
      "Topic 12:\n",
      "australian melbourne qld adelaide west final people business ban jailed arrested turnbull push finds emergency warns inquest mayor central art\n",
      "Topic 13:\n",
      "south farmers record road ahead shows plans study 2015 victims great indonesia hold syria continue human rights reports fish growers\n",
      "Topic 14:\n",
      "sydney water tasmania federal png climate end season president service scott boost rain use james shot rate liberal fall crime\n",
      "Topic 15:\n",
      "australia china perth power markets war drum pm pacific bid protest security russia red coach japan tourism urges rescue reveals\n",
      "Topic 16:\n",
      "day death home north guilty drought review regional food cuts korea safety hunter train tour bank flood job local crisis\n",
      "Topic 17:\n",
      "interview attack killed say act support violence mp housing wants white amid fiji games domestic senate need foreign rio claim\n",
      "Topic 18:\n",
      "plan industry public john jobs michael cut million hits prison gas continues town thursday dollar ashes zealand new zealand questions deaths\n",
      "Topic 19:\n",
      "sa canberra calls wins afl change case league residents city action river 2016 premier vote murray beach law england truck\n"
     ]
    }
   ],
   "source": [
    "display_topics(lda_tf, unigram_tf_vectorizer.get_feature_names(), no_top_words)"
   ]
  },
  {
   "cell_type": "code",
   "execution_count": 29,
   "metadata": {},
   "outputs": [
    {
     "name": "stdout",
     "output_type": "stream",
     "text": [
      "Log Likelihood:  -39618571.12494908\n",
      "Perplexity:  3749.25734151968\n"
     ]
    }
   ],
   "source": [
    "# Log Likelyhood: Higher the better\n",
    "print(\"Log Likelihood: \", lda_tf.score(news_unigram_tf_matrix))\n",
    "\n",
    "# Perplexity: Lower the better. Perplexity = exp(-1. * log-likelihood per word)\n",
    "print(\"Perplexity: \", lda_tf.perplexity(news_unigram_tf_matrix))"
   ]
  }
 ],
 "metadata": {
  "kernelspec": {
   "display_name": "Python 3",
   "language": "python",
   "name": "python3"
  },
  "language_info": {
   "codemirror_mode": {
    "name": "ipython",
    "version": 3
   },
   "file_extension": ".py",
   "mimetype": "text/x-python",
   "name": "python",
   "nbconvert_exporter": "python",
   "pygments_lexer": "ipython3",
   "version": "3.7.4"
  }
 },
 "nbformat": 4,
 "nbformat_minor": 2
}
